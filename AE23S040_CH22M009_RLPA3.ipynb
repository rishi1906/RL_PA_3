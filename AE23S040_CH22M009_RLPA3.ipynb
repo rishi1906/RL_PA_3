{
  "nbformat": 4,
  "nbformat_minor": 0,
  "metadata": {
    "colab": {
      "provenance": []
    },
    "kernelspec": {
      "name": "python3",
      "display_name": "Python 3"
    },
    "language_info": {
      "name": "python"
    },
    "widgets": {
      "application/vnd.jupyter.widget-state+json": {
        "5d1493f640774e5397121d187465defe": {
          "model_module": "@jupyter-widgets/controls",
          "model_name": "VBoxModel",
          "model_module_version": "1.5.0",
          "state": {
            "_dom_classes": [],
            "_model_module": "@jupyter-widgets/controls",
            "_model_module_version": "1.5.0",
            "_model_name": "VBoxModel",
            "_view_count": null,
            "_view_module": "@jupyter-widgets/controls",
            "_view_module_version": "1.5.0",
            "_view_name": "VBoxView",
            "box_style": "",
            "children": [
              "IPY_MODEL_38f48f672c854ab497ace1fe448a006c",
              "IPY_MODEL_02c554b81ac74ee88ff9a58467a60489"
            ],
            "layout": "IPY_MODEL_6d950e0437364114a3bafdff714ed704"
          }
        },
        "38f48f672c854ab497ace1fe448a006c": {
          "model_module": "@jupyter-widgets/controls",
          "model_name": "LabelModel",
          "model_module_version": "1.5.0",
          "state": {
            "_dom_classes": [],
            "_model_module": "@jupyter-widgets/controls",
            "_model_module_version": "1.5.0",
            "_model_name": "LabelModel",
            "_view_count": null,
            "_view_module": "@jupyter-widgets/controls",
            "_view_module_version": "1.5.0",
            "_view_name": "LabelView",
            "description": "",
            "description_tooltip": null,
            "layout": "IPY_MODEL_2717f2b0ac6345cdaeb76148bd3b5d74",
            "placeholder": "​",
            "style": "IPY_MODEL_e3da530e5c744a2b94970433ed27cffd",
            "value": "0.001 MB of 0.002 MB uploaded (0.000 MB deduped)\r"
          }
        },
        "02c554b81ac74ee88ff9a58467a60489": {
          "model_module": "@jupyter-widgets/controls",
          "model_name": "FloatProgressModel",
          "model_module_version": "1.5.0",
          "state": {
            "_dom_classes": [],
            "_model_module": "@jupyter-widgets/controls",
            "_model_module_version": "1.5.0",
            "_model_name": "FloatProgressModel",
            "_view_count": null,
            "_view_module": "@jupyter-widgets/controls",
            "_view_module_version": "1.5.0",
            "_view_name": "ProgressView",
            "bar_style": "",
            "description": "",
            "description_tooltip": null,
            "layout": "IPY_MODEL_8f65306a53964f7cb5b7c3492b8562f6",
            "max": 1,
            "min": 0,
            "orientation": "horizontal",
            "style": "IPY_MODEL_d4809fdf39af48bdb3364e1ef8eabf3f",
            "value": 0.6112777444511098
          }
        },
        "6d950e0437364114a3bafdff714ed704": {
          "model_module": "@jupyter-widgets/base",
          "model_name": "LayoutModel",
          "model_module_version": "1.2.0",
          "state": {
            "_model_module": "@jupyter-widgets/base",
            "_model_module_version": "1.2.0",
            "_model_name": "LayoutModel",
            "_view_count": null,
            "_view_module": "@jupyter-widgets/base",
            "_view_module_version": "1.2.0",
            "_view_name": "LayoutView",
            "align_content": null,
            "align_items": null,
            "align_self": null,
            "border": null,
            "bottom": null,
            "display": null,
            "flex": null,
            "flex_flow": null,
            "grid_area": null,
            "grid_auto_columns": null,
            "grid_auto_flow": null,
            "grid_auto_rows": null,
            "grid_column": null,
            "grid_gap": null,
            "grid_row": null,
            "grid_template_areas": null,
            "grid_template_columns": null,
            "grid_template_rows": null,
            "height": null,
            "justify_content": null,
            "justify_items": null,
            "left": null,
            "margin": null,
            "max_height": null,
            "max_width": null,
            "min_height": null,
            "min_width": null,
            "object_fit": null,
            "object_position": null,
            "order": null,
            "overflow": null,
            "overflow_x": null,
            "overflow_y": null,
            "padding": null,
            "right": null,
            "top": null,
            "visibility": null,
            "width": null
          }
        },
        "2717f2b0ac6345cdaeb76148bd3b5d74": {
          "model_module": "@jupyter-widgets/base",
          "model_name": "LayoutModel",
          "model_module_version": "1.2.0",
          "state": {
            "_model_module": "@jupyter-widgets/base",
            "_model_module_version": "1.2.0",
            "_model_name": "LayoutModel",
            "_view_count": null,
            "_view_module": "@jupyter-widgets/base",
            "_view_module_version": "1.2.0",
            "_view_name": "LayoutView",
            "align_content": null,
            "align_items": null,
            "align_self": null,
            "border": null,
            "bottom": null,
            "display": null,
            "flex": null,
            "flex_flow": null,
            "grid_area": null,
            "grid_auto_columns": null,
            "grid_auto_flow": null,
            "grid_auto_rows": null,
            "grid_column": null,
            "grid_gap": null,
            "grid_row": null,
            "grid_template_areas": null,
            "grid_template_columns": null,
            "grid_template_rows": null,
            "height": null,
            "justify_content": null,
            "justify_items": null,
            "left": null,
            "margin": null,
            "max_height": null,
            "max_width": null,
            "min_height": null,
            "min_width": null,
            "object_fit": null,
            "object_position": null,
            "order": null,
            "overflow": null,
            "overflow_x": null,
            "overflow_y": null,
            "padding": null,
            "right": null,
            "top": null,
            "visibility": null,
            "width": null
          }
        },
        "e3da530e5c744a2b94970433ed27cffd": {
          "model_module": "@jupyter-widgets/controls",
          "model_name": "DescriptionStyleModel",
          "model_module_version": "1.5.0",
          "state": {
            "_model_module": "@jupyter-widgets/controls",
            "_model_module_version": "1.5.0",
            "_model_name": "DescriptionStyleModel",
            "_view_count": null,
            "_view_module": "@jupyter-widgets/base",
            "_view_module_version": "1.2.0",
            "_view_name": "StyleView",
            "description_width": ""
          }
        },
        "8f65306a53964f7cb5b7c3492b8562f6": {
          "model_module": "@jupyter-widgets/base",
          "model_name": "LayoutModel",
          "model_module_version": "1.2.0",
          "state": {
            "_model_module": "@jupyter-widgets/base",
            "_model_module_version": "1.2.0",
            "_model_name": "LayoutModel",
            "_view_count": null,
            "_view_module": "@jupyter-widgets/base",
            "_view_module_version": "1.2.0",
            "_view_name": "LayoutView",
            "align_content": null,
            "align_items": null,
            "align_self": null,
            "border": null,
            "bottom": null,
            "display": null,
            "flex": null,
            "flex_flow": null,
            "grid_area": null,
            "grid_auto_columns": null,
            "grid_auto_flow": null,
            "grid_auto_rows": null,
            "grid_column": null,
            "grid_gap": null,
            "grid_row": null,
            "grid_template_areas": null,
            "grid_template_columns": null,
            "grid_template_rows": null,
            "height": null,
            "justify_content": null,
            "justify_items": null,
            "left": null,
            "margin": null,
            "max_height": null,
            "max_width": null,
            "min_height": null,
            "min_width": null,
            "object_fit": null,
            "object_position": null,
            "order": null,
            "overflow": null,
            "overflow_x": null,
            "overflow_y": null,
            "padding": null,
            "right": null,
            "top": null,
            "visibility": null,
            "width": null
          }
        },
        "d4809fdf39af48bdb3364e1ef8eabf3f": {
          "model_module": "@jupyter-widgets/controls",
          "model_name": "ProgressStyleModel",
          "model_module_version": "1.5.0",
          "state": {
            "_model_module": "@jupyter-widgets/controls",
            "_model_module_version": "1.5.0",
            "_model_name": "ProgressStyleModel",
            "_view_count": null,
            "_view_module": "@jupyter-widgets/base",
            "_view_module_version": "1.2.0",
            "_view_name": "StyleView",
            "bar_color": null,
            "description_width": ""
          }
        }
      }
    }
  },
  "cells": [
    {
      "cell_type": "code",
      "execution_count": 1,
      "metadata": {
        "id": "r7eSRCGPobAc"
      },
      "outputs": [],
      "source": [
        "# !pip install gymnasium --quiet"
      ]
    },
    {
      "cell_type": "code",
      "source": [
        "!pip install --upgrade gym"
      ],
      "metadata": {
        "id": "kzx_p4JlWY3U",
        "colab": {
          "base_uri": "https://localhost:8080/"
        },
        "outputId": "ec920c20-b7e8-4497-ee8e-073f83f68555"
      },
      "execution_count": 2,
      "outputs": [
        {
          "output_type": "stream",
          "name": "stdout",
          "text": [
            "Requirement already satisfied: gym in /usr/local/lib/python3.10/dist-packages (0.26.2)\n",
            "Requirement already satisfied: numpy>=1.18.0 in /usr/local/lib/python3.10/dist-packages (from gym) (1.25.2)\n",
            "Requirement already satisfied: cloudpickle>=1.2.0 in /usr/local/lib/python3.10/dist-packages (from gym) (2.2.1)\n",
            "Requirement already satisfied: gym-notices>=0.0.4 in /usr/local/lib/python3.10/dist-packages (from gym) (0.0.8)\n"
          ]
        }
      ]
    },
    {
      "cell_type": "code",
      "execution_count": 3,
      "metadata": {
        "id": "P_DODRgW_ZKS"
      },
      "outputs": [],
      "source": [
        "import numpy as np\n",
        "import random\n",
        "import gym\n",
        "import glob\n",
        "import io\n",
        "import matplotlib.pyplot as plt\n",
        "import gym\n",
        "from gym.envs.toy_text.taxi import *\n",
        "import seaborn as sns\n",
        "from tqdm import tqdm"
      ]
    },
    {
      "cell_type": "code",
      "source": [
        "import wandb as wb\n",
        "api_key = \"17dab9d1bbdc37c41831799a4b0b50d3e97400c5\"\n",
        "\n",
        "# Login to Weights & Biases\n",
        "wb.login(key=api_key)\n",
        "project_name = 'PA3_SMDP'"
      ],
      "metadata": {
        "colab": {
          "base_uri": "https://localhost:8080/"
        },
        "id": "R3hoIeZZW5qR",
        "outputId": "b0f47ca5-2fe8-4942-ea4d-ea98d457fdb9"
      },
      "execution_count": 4,
      "outputs": [
        {
          "output_type": "stream",
          "name": "stderr",
          "text": [
            "\u001b[34m\u001b[1mwandb\u001b[0m: Currently logged in as: \u001b[33mrishi1906\u001b[0m (\u001b[33miitm_aero\u001b[0m). Use \u001b[1m`wandb login --relogin`\u001b[0m to force relogin\n",
            "\u001b[34m\u001b[1mwandb\u001b[0m: \u001b[33mWARNING\u001b[0m If you're specifying your api key in code, ensure this code is not shared publicly.\n",
            "\u001b[34m\u001b[1mwandb\u001b[0m: \u001b[33mWARNING\u001b[0m Consider setting the WANDB_API_KEY environment variable, or running `wandb login` from the command line.\n",
            "\u001b[34m\u001b[1mwandb\u001b[0m: Appending key for api.wandb.ai to your netrc file: /root/.netrc\n"
          ]
        }
      ]
    },
    {
      "cell_type": "code",
      "execution_count": 5,
      "metadata": {
        "id": "PCqqWn-zonRB"
      },
      "outputs": [],
      "source": [
        "env = gym.make('Taxi-v3', render_mode=\"rgb_array\")"
      ]
    },
    {
      "cell_type": "code",
      "execution_count": 6,
      "metadata": {
        "colab": {
          "base_uri": "https://localhost:8080/"
        },
        "id": "BmqcPA4lo6Ki",
        "outputId": "638a721b-1905-4aef-e523-e2d8ade37b49"
      },
      "outputs": [
        {
          "output_type": "stream",
          "name": "stdout",
          "text": [
            "Discrete(500)\n",
            "Current state: (342, {'prob': 1.0, 'action_mask': array([1, 1, 0, 1, 0, 0], dtype=int8)})\n",
            "Current state info: 3, 2, 0, 2\n"
          ]
        }
      ],
      "source": [
        "# state space : 500 (25x5x4) discrete states\n",
        "print(env.observation_space)\n",
        "\n",
        "# action space : 6\n",
        "\n",
        "# actions\n",
        "# 0: move south\n",
        "# 1: move north\n",
        "# 2: move east\n",
        "# 3: move west\n",
        "# 4: pickup passenger\n",
        "# 5: dropoff passenger\n",
        "\n",
        "# print(env.action_space)\n",
        "\n",
        "# Primitive Actions\n",
        "# action = {0: 'move south (down)', 1: 'move north (up)', 2: 'move east (right)', 3: 'move west(left)', 4: 'pickup passenger ', 5: 'pickup passenger'}\n",
        "# print(f'List of primitive actions : {action}')\n",
        "\n",
        "seed_val = 57\n",
        "start = env.reset(seed=seed_val)\n",
        "print(f'Current state: {start}')\n",
        "\n",
        "taxi_row, taxi_col, passenger_index, destination_index = env.decode(start[0])\n",
        "print(f'Current state info: {taxi_row}, {taxi_col}, {passenger_index}, {destination_index}')\n",
        "\n",
        "# Example Transitions\n",
        "rnd_action = random.randint(0, 5)\n",
        "# print (\"Action taken:\", action[rnd_action])\n",
        "# env.step returns 5 tuple rather than a 4 tuple as given in the tutorial\n",
        "\n",
        "# next_state, reward, is_terminal, _, t_prob = env.step(rnd_action)\n",
        "# print (f'Transition probability: {t_prob[\"prob\"]}')\n",
        "# print (f'Next state: {next_state}')\n",
        "\n",
        "# taxi_row, taxi_col, passenger_index, destination_index = env.decode(next_state)\n",
        "# print(f'Current state info: {taxi_row}, {taxi_col}, {passenger_index}, {destination_index}')\n",
        "# print (f'Reward recieved: {reward}')\n",
        "# print (f'Terminal state: {is_terminal}')"
      ]
    },
    {
      "cell_type": "code",
      "source": [
        "D = 0\n",
        "U = 1\n",
        "R = 2\n",
        "L = 3"
      ],
      "metadata": {
        "id": "le4uhEbAAp1s"
      },
      "execution_count": 7,
      "outputs": []
    },
    {
      "cell_type": "code",
      "source": [
        "R_Loc = [0,0]\n",
        "G_Loc = [0,4]\n",
        "Y_Loc = [4,0]\n",
        "B_Loc = [4,3]"
      ],
      "metadata": {
        "id": "KNw1vIQIC14B"
      },
      "execution_count": 8,
      "outputs": []
    },
    {
      "cell_type": "code",
      "source": [
        "# R_Opt_Pol = np.array(\n",
        "#     [[U, L, D, D, D],\n",
        "#      [U, L, L, L, L],\n",
        "#      [U, L, L, L, L],\n",
        "#      [U, U, U, U, U],\n",
        "#      [U, U, U, U, U]])\n",
        "\n",
        "# G_Opt_Pol = np.array(\n",
        "#     [[D, D, R, R, U],\n",
        "#      [R, R, R, R, U],\n",
        "#      [R, R, R, R, U],\n",
        "#      [U, U, U, R, U],\n",
        "#      [U, U, U, R, U]])\n",
        "\n",
        "# Y_Opt_Pol = np.array(\n",
        "#     [[D, D, D, D, D],\n",
        "#      [D, L, L, L, L],\n",
        "#      [D, L, L, L, L],\n",
        "#      [D, U, U, U, U],\n",
        "#      [D, U, U, U, U]])\n",
        "\n",
        "# B_Opt_Pol = np.array(\n",
        "#     [[D, D, D, D, L],\n",
        "#      [D, D, D, D, L],\n",
        "#      [R, R, R, D, L],\n",
        "#      [U, U, U, D, L],\n",
        "#      [U, U, U, D, L]])\n"
      ],
      "metadata": {
        "id": "uRzzHbUtAVCM"
      },
      "execution_count": 9,
      "outputs": []
    },
    {
      "cell_type": "code",
      "source": [
        "R_Opt_Pol = [[U, L, D, D, D], [U, L, D, L, L], [U, L, L, L, L], [U, U, U, U, U], [U, U, U, U, U]]\n",
        "G_Opt_Pol = [[D, D, R, R, U], [R, D, R, R, U], [R, R, R, R, U], [U, U, U, R, U], [U, U, U, R, U]]\n",
        "Y_Opt_Pol = [[D, D, D, D, D], [D, L, D, L, L], [D, L, L, L, L], [D, U, U, U, U], [D, U, U, U, U]]\n",
        "B_Opt_Pol = [[D, D, D, D, L], [D, D, D, D, L], [R, R, R, D, L], [U, U, U, D, L], [U, U, U, D, L]]"
      ],
      "metadata": {
        "id": "8YWmUkAwiGUq"
      },
      "execution_count": 10,
      "outputs": []
    },
    {
      "cell_type": "markdown",
      "source": [
        "    T_r : Taxi Row\n",
        "    T_c : Taxi Col\n",
        "    P_i : Passenger Index\n",
        "    D_i : Destination Index\n",
        "\n",
        "    An observation is returned as an int() that encodes the corresponding state, calculated by ((taxi_row * 5 + taxi_col) * 5 + passenger_location) * 4 + destination\n",
        "    Ref[1]"
      ],
      "metadata": {
        "id": "UfuKv7CqD0pu"
      }
    },
    {
      "cell_type": "code",
      "source": [
        "def move_to_R(env, state):\n",
        "    T_r, T_c, P_i, D_i = env.decode(state)\n",
        "    Opt_Done = True if ([T_r, T_c] == R_Loc) else False\n",
        "    Opt_Act = R_Opt_Pol[T_r][T_c]\n",
        "    return [Opt_Act, Opt_Done]"
      ],
      "metadata": {
        "id": "aoSrqmCoDTxT"
      },
      "execution_count": 11,
      "outputs": []
    },
    {
      "cell_type": "code",
      "source": [
        "def move_to_G(env, state):\n",
        "    T_r, T_c, P_i, D_i = env.decode(state)\n",
        "    Opt_Done = True if ([T_r, T_c] == G_Loc) else False\n",
        "    Opt_Act = G_Opt_Pol[T_r][T_c]\n",
        "    return [Opt_Act, Opt_Done]"
      ],
      "metadata": {
        "id": "rwMUzo7XFD-Q"
      },
      "execution_count": 12,
      "outputs": []
    },
    {
      "cell_type": "code",
      "source": [
        "def move_to_B(env, state):\n",
        "    T_r, T_c, P_i, D_i = env.decode(state)\n",
        "    Opt_Done = True if ([T_r, T_c] == B_Loc) else False\n",
        "    Opt_Act = B_Opt_Pol[T_r][T_c]\n",
        "    return [Opt_Act, Opt_Done]"
      ],
      "metadata": {
        "id": "LAAnHkAEFFxc"
      },
      "execution_count": 13,
      "outputs": []
    },
    {
      "cell_type": "code",
      "source": [
        "def move_to_Y(env, state):\n",
        "    T_r, T_c, P_i, D_i = env.decode(state)\n",
        "    Opt_Done = True if ([T_r, T_c] == Y_Loc) else False\n",
        "    Opt_Act = Y_Opt_Pol[T_r][T_c]\n",
        "    return [Opt_Act, Opt_Done]"
      ],
      "metadata": {
        "id": "TX57okR7FE5q"
      },
      "execution_count": 14,
      "outputs": []
    },
    {
      "cell_type": "markdown",
      "source": [
        "Visualize Heat Map"
      ],
      "metadata": {
        "id": "QlWHF1GiIH4W"
      }
    },
    {
      "cell_type": "code",
      "source": [
        "Opt = [R_Opt_Pol, G_Opt_Pol, Y_Opt_Pol, B_Opt_Pol]\n",
        "Opt_Ch = ['R','G','Y','B']\n",
        "labels = {0: '↓', 1: 'ꜛ', 2: '→', 3: '←'}"
      ],
      "metadata": {
        "id": "iu7aeEv_IGrl"
      },
      "execution_count": 15,
      "outputs": []
    },
    {
      "cell_type": "code",
      "source": [
        "\n",
        "# sns.set_style(\"dark\")\n",
        "# custom_palette = [\"#FF5733\", \"#FF5733\", \"#FF5733\", \"#FF5733\", \"#FF5733\"]  # Example custom colors\n",
        "# sns.set_palette(custom_palette)\n",
        "\n",
        "fig, axis = plt.subplots(2, 2, figsize=(10, 10))\n",
        "\n",
        "for i in range(2):\n",
        "    for j in range(2):\n",
        "        # Define custom labels for arrows\n",
        "\n",
        "        l = np.vectorize(labels.get)(Opt[2 * i + j])\n",
        "\n",
        "        # Plot heatmap with custom annotations\n",
        "        ax = sns.heatmap(Opt[2 * i + j], ax=axis[i, j], annot=l, fmt='', cbar=False, annot_kws={\"size\": 18})\n",
        "        axis[i, j].set_title(\"Customized Policy for Option Move_to_{}\".format(Opt_Ch[i * 2 + j]))\n",
        "\n",
        "plt.suptitle('Customized Policy for Options')\n",
        "plt.show()\n"
      ],
      "metadata": {
        "colab": {
          "base_uri": "https://localhost:8080/",
          "height": 930
        },
        "id": "NTb9VcgjIgb1",
        "outputId": "d48fc465-6092-4e68-b879-c3a614310573"
      },
      "execution_count": 16,
      "outputs": [
        {
          "output_type": "display_data",
          "data": {
            "text/plain": [
              "<Figure size 1000x1000 with 4 Axes>"
            ],
            "image/png": "[encoded data removed]"
          },
          "metadata": {}
        }
      ]
    },
    {
      "cell_type": "code",
      "source": [
        "def epsilon_greedy(QV, stt, eps, no_act):\n",
        "    action = np.random.choice(range(no_act)) if (random.uniform(0, 1) < eps) else np.argmax(QV[stt])\n",
        "    return action"
      ],
      "metadata": {
        "id": "y0XmjSM5LPVk"
      },
      "execution_count": 17,
      "outputs": []
    },
    {
      "cell_type": "markdown",
      "source": [
        "**SMDP Q Learning**"
      ],
      "metadata": {
        "id": "YFNkGA9IObVn"
      }
    },
    {
      "cell_type": "markdown",
      "source": [
        "Lambda Expression Definitions for updating Q Values\n"
      ],
      "metadata": {
        "id": "SRPfROcln3zy"
      }
    },
    {
      "cell_type": "code",
      "source": [
        "# Define a function to update Q-values for primitive actions\n",
        "update_q_primitive = lambda stt, act, nxt_stt, reward: \\\n",
        "    SMDP_QV[stt][act] + alpha * (reward + gamma * np.max(SMDP_QV[nxt_stt]) - SMDP_QV[stt][act])\n",
        "\n",
        "update_q_option = lambda int_stt, act, tau, nxt_stt, reward_bar: \\\n",
        "    SMDP_QV[int_stt][act] + alpha * \\\n",
        "    (reward_bar + (gamma ** tau) * np.max(SMDP_QV[nxt_stt]) - SMDP_QV[int_stt][act])\n"
      ],
      "metadata": {
        "id": "kPgiQEMLn2oY"
      },
      "execution_count": 18,
      "outputs": []
    },
    {
      "cell_type": "code",
      "source": [
        "\n",
        "# Define a function to perform SMDP Q-Learning for options\n",
        "def smdp_q_learning_option(act_func, stt, done):\n",
        "    optdone = False\n",
        "    int_stt = stt\n",
        "    tau = 0\n",
        "    reward_bar = 0\n",
        "    while (optdone == False and not done):\n",
        "        optact, optdone = act_func(env, stt)\n",
        "        # print(optact)\n",
        "        nxt_stt, reward, done, _, _ = env.step(optact)\n",
        "        reward_bar = gamma * reward_bar + reward\n",
        "        tau += 1\n",
        "        stt = nxt_stt\n",
        "    return int_stt, tau, reward_bar, nxt_stt\n",
        "\n"
      ],
      "metadata": {
        "id": "OwjUlXr6L0Ar"
      },
      "execution_count": 19,
      "outputs": []
    },
    {
      "cell_type": "code",
      "source": [
        "\n",
        "def run_smdp_q_learning(actions_funcs, no_act,alpha, eps, exp, n_eps):\n",
        "    cumulative_reward = 0\n",
        "    for i in range(exp):\n",
        "        for episode in tqdm(range(n_eps)):\n",
        "            step = 0\n",
        "            stt = env.reset()[0]\n",
        "            done = False\n",
        "            total_rewards = 0\n",
        "\n",
        "            while not done:\n",
        "                step += 1\n",
        "                act = epsilon_greedy(SMDP_QV, stt, eps, no_act)\n",
        "\n",
        "                if act < 6:\n",
        "                    nxt_stt, reward, done, _ , _ = env.step(act)\n",
        "                    total_rewards += reward\n",
        "                    SMDP_QV[stt][act] = update_q_primitive(stt, act, nxt_stt, reward)\n",
        "                    stt = nxt_stt\n",
        "\n",
        "                else:\n",
        "                    # print(act)\n",
        "                    act_func = actions_funcs[act - 6]\n",
        "                    int_stt, tau, reward_bar, nxt_stt = smdp_q_learning_option(act_func, stt, done)\n",
        "                    SMDP_QV[int_stt][act] = update_q_option(int_stt, act, tau, nxt_stt, reward_bar)\n",
        "                    total_rewards += reward_bar\n",
        "            cumulative_reward += total_rewards\n",
        "            rewards[i][episode] = total_rewards\n",
        "            steps.append(step)\n",
        "            r = np.sum(rewards, 0)\n",
        "            mean_reward = np.mean(r)\n",
        "            wb.log({'Episode_Reward': total_rewards})\n",
        "            wb.log({'Episode_Step': step})\n",
        "            wb.log({'Mean_Episodic_Reward': mean_reward})\n"
      ],
      "metadata": {
        "id": "peJvXn_ZoCDD"
      },
      "execution_count": 20,
      "outputs": []
    },
    {
      "cell_type": "code",
      "source": [
        "gamma = 0.9\n",
        "alpha = 0.1\n",
        "n_eps = 50000\n",
        "exp = 1\n",
        "steps = []\n",
        "no_act = 10\n",
        "eps = 0.1\n",
        "SMDP_QV = np.zeros((500, no_act))\n",
        "rewards = np.zeros((exp, n_eps))"
      ],
      "metadata": {
        "id": "fTU86E0pn-aQ"
      },
      "execution_count": 21,
      "outputs": []
    },
    {
      "cell_type": "code",
      "source": [
        "# actions = [move_to_R, move_to_G, move_to_Y, move_to_B]\n",
        "# run_smdp_q_learning(actions, no_act, alpha eps, exp, n_eps)\n",
        "# r = np.sum(rewards, 0)"
      ],
      "metadata": {
        "id": "TWPkHwdGoD76"
      },
      "execution_count": 22,
      "outputs": []
    },
    {
      "cell_type": "code",
      "source": [
        "!pip install wandb==0.14 -qU"
      ],
      "metadata": {
        "id": "sQLbS-hbWIC0"
      },
      "execution_count": 23,
      "outputs": []
    },
    {
      "cell_type": "markdown",
      "source": [
        "Wandb Hyper Parameter Tunning\n"
      ],
      "metadata": {
        "id": "-1lEIz-CRcYy"
      }
    },
    {
      "cell_type": "code",
      "source": [
        "sweep_config={\n",
        "    'method' : 'bayes' ,\n",
        "    'metric' : { 'name' : 'Mean_Episodic_Reward' , 'goal' : 'maximize' } ,\n",
        "    'parameters' : {\n",
        "        'alpha' : { 'values' : [0.1, 0.5, 0.9] },\n",
        "        'epsilon' : { 'values' : [0.1, 0.5, 0.9] },\n",
        "        'episodes' : { 'values' : [1000, 3000, 5000]},\n",
        "    }\n",
        "}\n",
        "\n",
        "sweep_id = wb.sweep(sweep_config, project=project_name)"
      ],
      "metadata": {
        "colab": {
          "base_uri": "https://localhost:8080/"
        },
        "id": "owXEb-VJVcmM",
        "outputId": "9bcb7718-982f-4f01-a47d-10c51ff1747e"
      },
      "execution_count": 24,
      "outputs": [
        {
          "output_type": "stream",
          "name": "stdout",
          "text": [
            "Create sweep with ID: e3n5yn8d\n",
            "Sweep URL: https://wandb.ai/iitm_aero/PA3_SMDP/sweeps/e3n5yn8d\n"
          ]
        }
      ]
    },
    {
      "cell_type": "code",
      "source": [
        "def train():\n",
        "  with wb.init() as run:\n",
        "\n",
        "    config = wb.config\n",
        "    actions = [move_to_R, move_to_G, move_to_Y, move_to_B]\n",
        "    run_smdp_q_learning(actions, no_act, config.alpha,  config.epsilon, exp, config.episodes)\n",
        "\n",
        "\n",
        "wb.agent(sweep_id, function=train, count=50)\n",
        "wb.finish()"
      ],
      "metadata": {
        "colab": {
          "base_uri": "https://localhost:8080/",
          "height": 1000,
          "referenced_widgets": [
            "5d1493f640774e5397121d187465defe",
            "38f48f672c854ab497ace1fe448a006c",
            "02c554b81ac74ee88ff9a58467a60489",
            "6d950e0437364114a3bafdff714ed704",
            "2717f2b0ac6345cdaeb76148bd3b5d74",
            "e3da530e5c744a2b94970433ed27cffd",
            "8f65306a53964f7cb5b7c3492b8562f6",
            "d4809fdf39af48bdb3364e1ef8eabf3f"
          ]
        },
        "id": "AhD6o9NbRbkB",
        "outputId": "dd3280c6-2ee4-4d6c-f231-08f5433705e4"
      },
      "execution_count": null,
      "outputs": [
        {
          "output_type": "stream",
          "name": "stderr",
          "text": [
            "\u001b[34m\u001b[1mwandb\u001b[0m: Agent Starting Run: prr4jyve with config:\n",
            "\u001b[34m\u001b[1mwandb\u001b[0m: \talpha: 0.9\n",
            "\u001b[34m\u001b[1mwandb\u001b[0m: \tepisodes: 5000\n",
            "\u001b[34m\u001b[1mwandb\u001b[0m: \tepsilon: 0.5\n"
          ]
        },
        {
          "output_type": "display_data",
          "data": {
            "text/plain": [
              "<IPython.core.display.HTML object>"
            ],
            "text/html": [
              "wandb version 0.16.6 is available!  To upgrade, please run:\n",
              " $ pip install wandb --upgrade"
            ]
          },
          "metadata": {}
        },
        {
          "output_type": "display_data",
          "data": {
            "text/plain": [
              "<IPython.core.display.HTML object>"
            ],
            "text/html": [
              "Tracking run with wandb version 0.14.0"
            ]
          },
          "metadata": {}
        },
        {
          "output_type": "display_data",
          "data": {
            "text/plain": [
              "<IPython.core.display.HTML object>"
            ],
            "text/html": [
              "Run data is saved locally in <code>/content/wandb/run-20240420_171657-prr4jyve</code>"
            ]
          },
          "metadata": {}
        },
        {
          "output_type": "display_data",
          "data": {
            "text/plain": [
              "<IPython.core.display.HTML object>"
            ],
            "text/html": [
              "Syncing run <strong><a href='https://wandb.ai/iitm_aero/PA3_SMDP/runs/prr4jyve' target=\"_blank\">flowing-sweep-1</a></strong> to <a href='https://wandb.ai/iitm_aero/PA3_SMDP' target=\"_blank\">Weights & Biases</a> (<a href='https://wandb.me/run' target=\"_blank\">docs</a>)<br/>Sweep page: <a href='https://wandb.ai/iitm_aero/PA3_SMDP/sweeps/e3n5yn8d' target=\"_blank\">https://wandb.ai/iitm_aero/PA3_SMDP/sweeps/e3n5yn8d</a>"
            ]
          },
          "metadata": {}
        },
        {
          "output_type": "display_data",
          "data": {
            "text/plain": [
              "<IPython.core.display.HTML object>"
            ],
            "text/html": [
              " View project at <a href='https://wandb.ai/iitm_aero/PA3_SMDP' target=\"_blank\">https://wandb.ai/iitm_aero/PA3_SMDP</a>"
            ]
          },
          "metadata": {}
        },
        {
          "output_type": "display_data",
          "data": {
            "text/plain": [
              "<IPython.core.display.HTML object>"
            ],
            "text/html": [
              " View sweep at <a href='https://wandb.ai/iitm_aero/PA3_SMDP/sweeps/e3n5yn8d' target=\"_blank\">https://wandb.ai/iitm_aero/PA3_SMDP/sweeps/e3n5yn8d</a>"
            ]
          },
          "metadata": {}
        },
        {
          "output_type": "display_data",
          "data": {
            "text/plain": [
              "<IPython.core.display.HTML object>"
            ],
            "text/html": [
              " View run at <a href='https://wandb.ai/iitm_aero/PA3_SMDP/runs/prr4jyve' target=\"_blank\">https://wandb.ai/iitm_aero/PA3_SMDP/runs/prr4jyve</a>"
            ]
          },
          "metadata": {}
        },
        {
          "output_type": "stream",
          "name": "stderr",
          "text": [
            "  0%|          | 0/5000 [00:00<?, ?it/s]/usr/local/lib/python3.10/dist-packages/gym/utils/passive_env_checker.py:233: DeprecationWarning: `np.bool8` is a deprecated alias for `np.bool_`.  (Deprecated NumPy 1.24)\n",
            "  if not isinstance(terminated, (bool, np.bool8)):\n",
            "100%|██████████| 5000/5000 [00:56<00:00, 88.23it/s] \n"
          ]
        },
        {
          "output_type": "display_data",
          "data": {
            "text/plain": [
              "<IPython.core.display.HTML object>"
            ],
            "text/html": [
              "Waiting for W&B process to finish... <strong style=\"color:green\">(success).</strong>"
            ]
          },
          "metadata": {}
        },
        {
          "output_type": "display_data",
          "data": {
            "text/plain": [
              "VBox(children=(Label(value='0.001 MB of 0.001 MB uploaded (0.000 MB deduped)\\r'), FloatProgress(value=1.0, max…"
            ],
            "application/vnd.jupyter.widget-view+json": {
              "version_major": 2,
              "version_minor": 0,
              "model_id": "5d1493f640774e5397121d187465defe"
            }
          },
          "metadata": {}
        },
        {
          "output_type": "display_data",
          "data": {
            "text/plain": [
              "<IPython.core.display.HTML object>"
            ],
            "text/html": [
              "<style>\n",
              "    table.wandb td:nth-child(1) { padding: 0 10px; text-align: left ; width: auto;} td:nth-child(2) {text-align: left ; width: 100%}\n",
              "    .wandb-row { display: flex; flex-direction: row; flex-wrap: wrap; justify-content: flex-start; width: 100% }\n",
              "    .wandb-col { display: flex; flex-direction: column; flex-basis: 100%; flex: 1; padding: 10px; }\n",
              "    </style>\n",
              "<div class=\"wandb-row\"><div class=\"wandb-col\"><h3>Run history:</h3><br/><table class=\"wandb\"><tr><td>Episode_Reward</td><td>▆▇▇█▃▃▆▆▅▇▇██▅▆▄▇▅▆█▅▅▆█▇▆▆▅▇█▇▇█▁█▇▇▇▇▅</td></tr><tr><td>Episode_Step</td><td>▃▂▂▁▆▇▃▃▄▂▂▁▁▅▄▄▂▅▄▁▄▃▂▁▂▃▃▄▂▁▂▂▁█▁▂▂▂▂▃</td></tr><tr><td>Mean_Episodic_Reward</td><td>██▇▇▇▇▆▆▆▆▆▅▅▅▅▅▅▄▄▄▄▄▄▃▃▃▃▃▃▂▂▂▂▂▂▂▁▁▁▁</td></tr></table><br/></div><div class=\"wandb-col\"><h3>Run summary:</h3><br/><table class=\"wandb\"><tr><td>Episode_Reward</td><td>-55.74524</td></tr><tr><td>Episode_Step</td><td>34</td></tr><tr><td>Mean_Episodic_Reward</td><td>-13.7408</td></tr></table><br/></div></div>"
            ]
          },
          "metadata": {}
        },
        {
          "output_type": "display_data",
          "data": {
            "text/plain": [
              "<IPython.core.display.HTML object>"
            ],
            "text/html": [
              " View run <strong style=\"color:#cdcd00\">flowing-sweep-1</strong> at: <a href='https://wandb.ai/iitm_aero/PA3_SMDP/runs/prr4jyve' target=\"_blank\">https://wandb.ai/iitm_aero/PA3_SMDP/runs/prr4jyve</a><br/>Synced 5 W&B file(s), 0 media file(s), 0 artifact file(s) and 0 other file(s)"
            ]
          },
          "metadata": {}
        },
        {
          "output_type": "display_data",
          "data": {
            "text/plain": [
              "<IPython.core.display.HTML object>"
            ],
            "text/html": [
              "Find logs at: <code>./wandb/run-20240420_171657-prr4jyve/logs</code>"
            ]
          },
          "metadata": {}
        },
        {
          "output_type": "stream",
          "name": "stderr",
          "text": [
            "\u001b[34m\u001b[1mwandb\u001b[0m: Agent Starting Run: th1cl0qa with config:\n",
            "\u001b[34m\u001b[1mwandb\u001b[0m: \talpha: 0.9\n",
            "\u001b[34m\u001b[1mwandb\u001b[0m: \tepisodes: 5000\n",
            "\u001b[34m\u001b[1mwandb\u001b[0m: \tepsilon: 0.1\n"
          ]
        },
        {
          "output_type": "display_data",
          "data": {
            "text/plain": [
              "<IPython.core.display.HTML object>"
            ],
            "text/html": [
              "wandb version 0.16.6 is available!  To upgrade, please run:\n",
              " $ pip install wandb --upgrade"
            ]
          },
          "metadata": {}
        },
        {
          "output_type": "display_data",
          "data": {
            "text/plain": [
              "<IPython.core.display.HTML object>"
            ],
            "text/html": [
              "Tracking run with wandb version 0.14.0"
            ]
          },
          "metadata": {}
        },
        {
          "output_type": "display_data",
          "data": {
            "text/plain": [
              "<IPython.core.display.HTML object>"
            ],
            "text/html": [
              "Run data is saved locally in <code>/content/wandb/run-20240420_171806-th1cl0qa</code>"
            ]
          },
          "metadata": {}
        },
        {
          "output_type": "display_data",
          "data": {
            "text/plain": [
              "<IPython.core.display.HTML object>"
            ],
            "text/html": [
              "Syncing run <strong><a href='https://wandb.ai/iitm_aero/PA3_SMDP/runs/th1cl0qa' target=\"_blank\">wise-sweep-2</a></strong> to <a href='https://wandb.ai/iitm_aero/PA3_SMDP' target=\"_blank\">Weights & Biases</a> (<a href='https://wandb.me/run' target=\"_blank\">docs</a>)<br/>Sweep page: <a href='https://wandb.ai/iitm_aero/PA3_SMDP/sweeps/e3n5yn8d' target=\"_blank\">https://wandb.ai/iitm_aero/PA3_SMDP/sweeps/e3n5yn8d</a>"
            ]
          },
          "metadata": {}
        },
        {
          "output_type": "display_data",
          "data": {
            "text/plain": [
              "<IPython.core.display.HTML object>"
            ],
            "text/html": [
              " View project at <a href='https://wandb.ai/iitm_aero/PA3_SMDP' target=\"_blank\">https://wandb.ai/iitm_aero/PA3_SMDP</a>"
            ]
          },
          "metadata": {}
        },
        {
          "output_type": "display_data",
          "data": {
            "text/plain": [
              "<IPython.core.display.HTML object>"
            ],
            "text/html": [
              " View sweep at <a href='https://wandb.ai/iitm_aero/PA3_SMDP/sweeps/e3n5yn8d' target=\"_blank\">https://wandb.ai/iitm_aero/PA3_SMDP/sweeps/e3n5yn8d</a>"
            ]
          },
          "metadata": {}
        },
        {
          "output_type": "display_data",
          "data": {
            "text/plain": [
              "<IPython.core.display.HTML object>"
            ],
            "text/html": [
              " View run at <a href='https://wandb.ai/iitm_aero/PA3_SMDP/runs/th1cl0qa' target=\"_blank\">https://wandb.ai/iitm_aero/PA3_SMDP/runs/th1cl0qa</a>"
            ]
          },
          "metadata": {}
        },
        {
          "output_type": "stream",
          "name": "stderr",
          "text": [
            "100%|██████████| 5000/5000 [00:28<00:00, 173.34it/s]\n"
          ]
        },
        {
          "output_type": "display_data",
          "data": {
            "text/plain": [
              "<IPython.core.display.HTML object>"
            ],
            "text/html": [
              "Waiting for W&B process to finish... <strong style=\"color:green\">(success).</strong>"
            ]
          },
          "metadata": {}
        },
        {
          "output_type": "display_data",
          "data": {
            "text/plain": [
              "<IPython.core.display.HTML object>"
            ],
            "text/html": [
              "<style>\n",
              "    table.wandb td:nth-child(1) { padding: 0 10px; text-align: left ; width: auto;} td:nth-child(2) {text-align: left ; width: 100%}\n",
              "    .wandb-row { display: flex; flex-direction: row; flex-wrap: wrap; justify-content: flex-start; width: 100% }\n",
              "    .wandb-col { display: flex; flex-direction: column; flex-basis: 100%; flex: 1; padding: 10px; }\n",
              "    </style>\n",
              "<div class=\"wandb-row\"><div class=\"wandb-col\"><h3>Run history:</h3><br/><table class=\"wandb\"><tr><td>Episode_Reward</td><td>▁▄▅▆▄▇▂█▆▅▆▇█▇▇▆▄▇█▇▆▇▇▇▇▇▇▇▇█▆█▇█▇▆█▅▃█</td></tr><tr><td>Episode_Step</td><td>▇▆▄▃▅▂█▁▄▃▃▃▁▂▁▃▅▂▁▃▃▂▂▂▂▂▂▂▂▁▃▂▂▂▂▄▁▅▆▁</td></tr><tr><td>Mean_Episodic_Reward</td><td>▁▁▂▂▂▂▃▃▃▃▃▃▄▄▄▄▄▅▅▅▅▅▅▅▆▆▆▆▆▆▇▇▇▇▇▇▇███</td></tr></table><br/></div><div class=\"wandb-col\"><h3>Run summary:</h3><br/><table class=\"wandb\"><tr><td>Episode_Reward</td><td>12</td></tr><tr><td>Episode_Step</td><td>9</td></tr><tr><td>Mean_Episodic_Reward</td><td>-3.94759</td></tr></table><br/></div></div>"
            ]
          },
          "metadata": {}
        },
        {
          "output_type": "display_data",
          "data": {
            "text/plain": [
              "<IPython.core.display.HTML object>"
            ],
            "text/html": [
              " View run <strong style=\"color:#cdcd00\">wise-sweep-2</strong> at: <a href='https://wandb.ai/iitm_aero/PA3_SMDP/runs/th1cl0qa' target=\"_blank\">https://wandb.ai/iitm_aero/PA3_SMDP/runs/th1cl0qa</a><br/>Synced 5 W&B file(s), 0 media file(s), 0 artifact file(s) and 0 other file(s)"
            ]
          },
          "metadata": {}
        },
        {
          "output_type": "display_data",
          "data": {
            "text/plain": [
              "<IPython.core.display.HTML object>"
            ],
            "text/html": [
              "Find logs at: <code>./wandb/run-20240420_171806-th1cl0qa/logs</code>"
            ]
          },
          "metadata": {}
        },
        {
          "output_type": "stream",
          "name": "stderr",
          "text": [
            "\u001b[34m\u001b[1mwandb\u001b[0m: Agent Starting Run: hnfdxmpd with config:\n",
            "\u001b[34m\u001b[1mwandb\u001b[0m: \talpha: 0.1\n",
            "\u001b[34m\u001b[1mwandb\u001b[0m: \tepisodes: 3000\n",
            "\u001b[34m\u001b[1mwandb\u001b[0m: \tepsilon: 0.1\n"
          ]
        },
        {
          "output_type": "display_data",
          "data": {
            "text/plain": [
              "<IPython.core.display.HTML object>"
            ],
            "text/html": [
              "wandb version 0.16.6 is available!  To upgrade, please run:\n",
              " $ pip install wandb --upgrade"
            ]
          },
          "metadata": {}
        },
        {
          "output_type": "display_data",
          "data": {
            "text/plain": [
              "<IPython.core.display.HTML object>"
            ],
            "text/html": [
              "Tracking run with wandb version 0.14.0"
            ]
          },
          "metadata": {}
        },
        {
          "output_type": "display_data",
          "data": {
            "text/plain": [
              "<IPython.core.display.HTML object>"
            ],
            "text/html": [
              "Run data is saved locally in <code>/content/wandb/run-20240420_171848-hnfdxmpd</code>"
            ]
          },
          "metadata": {}
        },
        {
          "output_type": "display_data",
          "data": {
            "text/plain": [
              "<IPython.core.display.HTML object>"
            ],
            "text/html": [
              "Syncing run <strong><a href='https://wandb.ai/iitm_aero/PA3_SMDP/runs/hnfdxmpd' target=\"_blank\">rare-sweep-3</a></strong> to <a href='https://wandb.ai/iitm_aero/PA3_SMDP' target=\"_blank\">Weights & Biases</a> (<a href='https://wandb.me/run' target=\"_blank\">docs</a>)<br/>Sweep page: <a href='https://wandb.ai/iitm_aero/PA3_SMDP/sweeps/e3n5yn8d' target=\"_blank\">https://wandb.ai/iitm_aero/PA3_SMDP/sweeps/e3n5yn8d</a>"
            ]
          },
          "metadata": {}
        },
        {
          "output_type": "display_data",
          "data": {
            "text/plain": [
              "<IPython.core.display.HTML object>"
            ],
            "text/html": [
              " View project at <a href='https://wandb.ai/iitm_aero/PA3_SMDP' target=\"_blank\">https://wandb.ai/iitm_aero/PA3_SMDP</a>"
            ]
          },
          "metadata": {}
        },
        {
          "output_type": "display_data",
          "data": {
            "text/plain": [
              "<IPython.core.display.HTML object>"
            ],
            "text/html": [
              " View sweep at <a href='https://wandb.ai/iitm_aero/PA3_SMDP/sweeps/e3n5yn8d' target=\"_blank\">https://wandb.ai/iitm_aero/PA3_SMDP/sweeps/e3n5yn8d</a>"
            ]
          },
          "metadata": {}
        },
        {
          "output_type": "display_data",
          "data": {
            "text/plain": [
              "<IPython.core.display.HTML object>"
            ],
            "text/html": [
              " View run at <a href='https://wandb.ai/iitm_aero/PA3_SMDP/runs/hnfdxmpd' target=\"_blank\">https://wandb.ai/iitm_aero/PA3_SMDP/runs/hnfdxmpd</a>"
            ]
          },
          "metadata": {}
        },
        {
          "output_type": "stream",
          "name": "stderr",
          "text": [
            "100%|██████████| 3000/3000 [00:15<00:00, 199.13it/s]\n"
          ]
        },
        {
          "output_type": "display_data",
          "data": {
            "text/plain": [
              "<IPython.core.display.HTML object>"
            ],
            "text/html": [
              "Waiting for W&B process to finish... <strong style=\"color:green\">(success).</strong>"
            ]
          },
          "metadata": {}
        },
        {
          "output_type": "display_data",
          "data": {
            "text/plain": [
              "<IPython.core.display.HTML object>"
            ],
            "text/html": [
              "<style>\n",
              "    table.wandb td:nth-child(1) { padding: 0 10px; text-align: left ; width: auto;} td:nth-child(2) {text-align: left ; width: 100%}\n",
              "    .wandb-row { display: flex; flex-direction: row; flex-wrap: wrap; justify-content: flex-start; width: 100% }\n",
              "    .wandb-col { display: flex; flex-direction: column; flex-basis: 100%; flex: 1; padding: 10px; }\n",
              "    </style>\n",
              "<div class=\"wandb-row\"><div class=\"wandb-col\"><h3>Run history:</h3><br/><table class=\"wandb\"><tr><td>Episode_Reward</td><td>█▇▇▅▇▇█▇█▇▆▇▇▇▆▇█▁█▄▇▆▇▄▇▂█▅▆▇▇██▇▁▂███▇</td></tr><tr><td>Episode_Step</td><td>▁▂▂▃▂▁▁▂▁▂▃▃▁▁▂▂▁█▁▃▂▃▃▄▂▅▁▄▃▂▂▁▁▂▆▆▁▁▁▂</td></tr><tr><td>Mean_Episodic_Reward</td><td>▁▁▁▂▂▂▃▃▃▄▄▄▄▅▅▅▅▅▅▆▆▆▆▆▆▆▆▆▇▇▇▇▇▇▇▇████</td></tr></table><br/></div><div class=\"wandb-col\"><h3>Run summary:</h3><br/><table class=\"wandb\"><tr><td>Episode_Reward</td><td>-19.2209</td></tr><tr><td>Episode_Step</td><td>23</td></tr><tr><td>Mean_Episodic_Reward</td><td>-2.38212</td></tr></table><br/></div></div>"
            ]
          },
          "metadata": {}
        },
        {
          "output_type": "display_data",
          "data": {
            "text/plain": [
              "<IPython.core.display.HTML object>"
            ],
            "text/html": [
              " View run <strong style=\"color:#cdcd00\">rare-sweep-3</strong> at: <a href='https://wandb.ai/iitm_aero/PA3_SMDP/runs/hnfdxmpd' target=\"_blank\">https://wandb.ai/iitm_aero/PA3_SMDP/runs/hnfdxmpd</a><br/>Synced 5 W&B file(s), 0 media file(s), 0 artifact file(s) and 0 other file(s)"
            ]
          },
          "metadata": {}
        },
        {
          "output_type": "display_data",
          "data": {
            "text/plain": [
              "<IPython.core.display.HTML object>"
            ],
            "text/html": [
              "Find logs at: <code>./wandb/run-20240420_171848-hnfdxmpd/logs</code>"
            ]
          },
          "metadata": {}
        },
        {
          "output_type": "stream",
          "name": "stderr",
          "text": [
            "\u001b[34m\u001b[1mwandb\u001b[0m: Agent Starting Run: l9nrx49k with config:\n",
            "\u001b[34m\u001b[1mwandb\u001b[0m: \talpha: 0.1\n",
            "\u001b[34m\u001b[1mwandb\u001b[0m: \tepisodes: 1000\n",
            "\u001b[34m\u001b[1mwandb\u001b[0m: \tepsilon: 0.1\n"
          ]
        },
        {
          "output_type": "display_data",
          "data": {
            "text/plain": [
              "<IPython.core.display.HTML object>"
            ],
            "text/html": [
              "wandb version 0.16.6 is available!  To upgrade, please run:\n",
              " $ pip install wandb --upgrade"
            ]
          },
          "metadata": {}
        },
        {
          "output_type": "display_data",
          "data": {
            "text/plain": [
              "<IPython.core.display.HTML object>"
            ],
            "text/html": [
              "Tracking run with wandb version 0.14.0"
            ]
          },
          "metadata": {}
        },
        {
          "output_type": "display_data",
          "data": {
            "text/plain": [
              "<IPython.core.display.HTML object>"
            ],
            "text/html": [
              "Run data is saved locally in <code>/content/wandb/run-20240420_171919-l9nrx49k</code>"
            ]
          },
          "metadata": {}
        },
        {
          "output_type": "display_data",
          "data": {
            "text/plain": [
              "<IPython.core.display.HTML object>"
            ],
            "text/html": [
              "Syncing run <strong><a href='https://wandb.ai/iitm_aero/PA3_SMDP/runs/l9nrx49k' target=\"_blank\">bumbling-sweep-4</a></strong> to <a href='https://wandb.ai/iitm_aero/PA3_SMDP' target=\"_blank\">Weights & Biases</a> (<a href='https://wandb.me/run' target=\"_blank\">docs</a>)<br/>Sweep page: <a href='https://wandb.ai/iitm_aero/PA3_SMDP/sweeps/e3n5yn8d' target=\"_blank\">https://wandb.ai/iitm_aero/PA3_SMDP/sweeps/e3n5yn8d</a>"
            ]
          },
          "metadata": {}
        },
        {
          "output_type": "display_data",
          "data": {
            "text/plain": [
              "<IPython.core.display.HTML object>"
            ],
            "text/html": [
              " View project at <a href='https://wandb.ai/iitm_aero/PA3_SMDP' target=\"_blank\">https://wandb.ai/iitm_aero/PA3_SMDP</a>"
            ]
          },
          "metadata": {}
        },
        {
          "output_type": "display_data",
          "data": {
            "text/plain": [
              "<IPython.core.display.HTML object>"
            ],
            "text/html": [
              " View sweep at <a href='https://wandb.ai/iitm_aero/PA3_SMDP/sweeps/e3n5yn8d' target=\"_blank\">https://wandb.ai/iitm_aero/PA3_SMDP/sweeps/e3n5yn8d</a>"
            ]
          },
          "metadata": {}
        },
        {
          "output_type": "display_data",
          "data": {
            "text/plain": [
              "<IPython.core.display.HTML object>"
            ],
            "text/html": [
              " View run at <a href='https://wandb.ai/iitm_aero/PA3_SMDP/runs/l9nrx49k' target=\"_blank\">https://wandb.ai/iitm_aero/PA3_SMDP/runs/l9nrx49k</a>"
            ]
          },
          "metadata": {}
        },
        {
          "output_type": "stream",
          "name": "stderr",
          "text": [
            "100%|██████████| 1000/1000 [00:03<00:00, 251.03it/s]\n"
          ]
        },
        {
          "output_type": "display_data",
          "data": {
            "text/plain": [
              "<IPython.core.display.HTML object>"
            ],
            "text/html": [
              "Waiting for W&B process to finish... <strong style=\"color:green\">(success).</strong>"
            ]
          },
          "metadata": {}
        }
      ]
    },
    {
      "cell_type": "code",
      "source": [
        "# Calculate mean and standard deviation\n",
        "r = np.sum(rewards, 0)\n",
        "mean_reward = np.mean(r)\n",
        "std_reward = np.std(r)"
      ],
      "metadata": {
        "id": "wcE7ZDO9a0Jc"
      },
      "execution_count": null,
      "outputs": []
    },
    {
      "cell_type": "code",
      "source": [
        "import matplotlib.pyplot as plt\n",
        "\n",
        "def plot_reward_vs_episodes(n_eps, r, q_learning_type):\n",
        "    plt.plot(np.arange(n_eps), r, label='Total reward')\n",
        "    plt.title(f'Episode Reward vs Episodes\\nMean reward = {np.mean(r):.4f}')\n",
        "    plt.suptitle(f'{q_learning_type} Q-Learning with options', y=1.05)\n",
        "    plt.axhline(y=np.mean(r), linestyle='--', color='orange', label='Mean Reward')\n",
        "    plt.xlabel('Episodes')\n",
        "    plt.ylabel('Total episode rewards')\n",
        "    plt.grid()\n",
        "    plt.legend()\n",
        "    plt.show()\n",
        "\n",
        "\n"
      ],
      "metadata": {
        "id": "NkG01AnkXYaw"
      },
      "execution_count": null,
      "outputs": []
    },
    {
      "cell_type": "code",
      "source": [
        "import numpy as np\n",
        "import matplotlib.pyplot as plt\n",
        "\n",
        "def plot_cumulative_reward(n_eps, r, rolling_mean_window=100, q_learning_type='SMDP'):\n",
        "    # Calculate rolling average over the specified window size\n",
        "    rolling_mean = np.convolve(r, np.ones(rolling_mean_window), 'valid') / rolling_mean_window\n",
        "\n",
        "    # Plot rolling mean reward with a different color\n",
        "    plt.plot(np.arange(rolling_mean_window - 1, n_eps), rolling_mean, label=f'Rolling Mean ({rolling_mean_window} episodes)', color='green')\n",
        "\n",
        "    # Plot mean reward with a different color\n",
        "    mean_reward = np.mean(r)\n",
        "    plt.axhline(y=mean_reward, linestyle='--', color='orange', label='Mean Reward')\n",
        "\n",
        "    # Add title and labels\n",
        "    plt.title('Episode Reward vs Episodes')\n",
        "    plt.suptitle(f'{q_learning_type} Q-Learning with options', y=1.05)\n",
        "    plt.xlabel('Episodes')\n",
        "    plt.ylabel('Total Episode Rewards')\n",
        "    plt.grid()\n",
        "    plt.legend()\n",
        "\n",
        "    # Show plot\n",
        "    plt.show()\n",
        "\n"
      ],
      "metadata": {
        "id": "Bnrl2NwsXy00"
      },
      "execution_count": null,
      "outputs": []
    },
    {
      "cell_type": "code",
      "source": [
        "import matplotlib.pyplot as plt\n",
        "\n",
        "def plot_cumulative_steps(n_eps, steps, q_learning_type='SMDP'):\n",
        "    # Plot total steps\n",
        "    plt.plot(np.arange(n_eps), steps, label='Total Steps', color='blue')\n",
        "\n",
        "    # Add title and labels\n",
        "    plt.title('Episode Steps vs Episodes')\n",
        "    plt.suptitle(f'{q_learning_type} Q-Learning with options', y=1.05)\n",
        "    plt.xlabel('Episodes')\n",
        "    plt.ylabel('Total Episode Steps')\n",
        "    plt.grid()\n",
        "    plt.legend()\n",
        "\n",
        "    # Show plot\n",
        "    plt.show()\n",
        "\n",
        "# Example usage:\n",
        "# plot_cumulative_steps(n_eps, steps)\n",
        "\n"
      ],
      "metadata": {
        "id": "IsMO9NpMYeCU"
      },
      "execution_count": null,
      "outputs": []
    },
    {
      "cell_type": "code",
      "source": [
        "import matplotlib.pyplot as plt\n",
        "\n",
        "def plot_cumulative_steps_with_rolling_mean(n_eps, steps, rolling_mean_window_steps=100, q_learning_type='SMDP'):\n",
        "    # Calculate mean and standard deviation for steps\n",
        "    mean_steps = np.mean(steps)\n",
        "    std_steps = np.std(steps)\n",
        "\n",
        "    # Calculate rolling average over the specified window size for steps\n",
        "    rolling_mean_steps = np.convolve(steps, np.ones(rolling_mean_window_steps), 'valid') / rolling_mean_window_steps\n",
        "\n",
        "    # Plot rolling mean steps with a different color\n",
        "    plt.plot(np.arange(rolling_mean_window_steps - 1, n_eps), rolling_mean_steps, label=f'Rolling Mean Steps ({rolling_mean_window_steps} episodes)', color='green')\n",
        "\n",
        "    # Plot mean steps with a different color\n",
        "    plt.axhline(y=mean_steps, linestyle='--', color='orange', label='Mean Steps')\n",
        "\n",
        "    # Add title and labels for steps\n",
        "    plt.title('Episode Steps vs Episodes')\n",
        "    plt.suptitle(f'{q_learning_type} Q-Learning with options', y=1.05)\n",
        "    plt.xlabel('Episodes')\n",
        "    plt.ylabel('Total Episode Steps')\n",
        "    plt.grid()\n",
        "    plt.legend()\n",
        "\n",
        "    # Show plot\n",
        "    plt.show()\n",
        "\n"
      ],
      "metadata": {
        "id": "t4G2xjRiah3O"
      },
      "execution_count": null,
      "outputs": []
    },
    {
      "cell_type": "markdown",
      "source": [
        "Plot Reward and Step Graphs for SMDP\n"
      ],
      "metadata": {
        "id": "DLWIllpJdvV1"
      }
    },
    {
      "cell_type": "code",
      "source": [
        "q_learning_type = 'SMDP'"
      ],
      "metadata": {
        "id": "WvMxRWcqd0YQ"
      },
      "execution_count": null,
      "outputs": []
    },
    {
      "cell_type": "code",
      "source": [
        "plot_reward_vs_episodes(n_eps, r, q_learning_type)"
      ],
      "metadata": {
        "id": "WcbcBihGd604"
      },
      "execution_count": null,
      "outputs": []
    },
    {
      "cell_type": "code",
      "source": [
        "plot_cumulative_reward(n_eps, r, 100, q_learning_type)"
      ],
      "metadata": {
        "id": "ewYd_KeueC1P"
      },
      "execution_count": null,
      "outputs": []
    },
    {
      "cell_type": "code",
      "source": [
        "plot_cumulative_steps(n_eps, steps, q_learning_type)"
      ],
      "metadata": {
        "id": "AoD7OQVGeD5x"
      },
      "execution_count": null,
      "outputs": []
    },
    {
      "cell_type": "code",
      "source": [
        "plot_cumulative_steps_with_rolling_mean(n_eps, steps, 100, q_learning_type)"
      ],
      "metadata": {
        "id": "OpWet5I-eOky"
      },
      "execution_count": null,
      "outputs": []
    },
    {
      "cell_type": "code",
      "source": [
        "import matplotlib.pyplot as plt\n",
        "\n",
        "# Define passenger locations\n",
        "passenger_locations = [0, 1, 2, 3, 4]\n",
        "# Define option map and passenger map\n",
        "opt_map = {0: '↓', 1: 'ꜛ', 2: '→', 3: '←', 4: 'Pick\\nUp', 5: 'Drop\\noff', 6: 'Go to\\nR', 7: 'Go to\\nY', 8: 'Go to\\nG', 9: 'Go to\\nB'}\n",
        "pass_map = {0: 'R', 1:'G', 2: 'Y', 3:'B'}\n",
        "\n"
      ],
      "metadata": {
        "id": "He2okGP7AUJu"
      },
      "execution_count": null,
      "outputs": []
    },
    {
      "cell_type": "markdown",
      "source": [
        "Reshape Q Matrix to show all scenarios for SMDP"
      ],
      "metadata": {
        "id": "JbxwLNlVeQaL"
      }
    },
    {
      "cell_type": "code",
      "source": [
        "\n",
        "# Reshape Q-values matrix\n",
        "reshaped_Q_matrix = SMDP_QV.reshape(500, 10)\n",
        "max_Q_matrix = np.max(reshaped_Q_matrix, axis=-1)\n",
        "argmax_Q_matrix = np.argmax(reshaped_Q_matrix, axis=-1)\n",
        "labeled_argmax_Q_matrix = np.vectorize(opt_map.get)(argmax_Q_matrix)"
      ],
      "metadata": {
        "id": "-gAckO_sgaXi"
      },
      "execution_count": null,
      "outputs": []
    },
    {
      "cell_type": "code",
      "source": [
        "def visualize_passenger_location(pass_loc, max_Q_matrix, argmax_Q_matrix, labeled_argmax_Q_matrix, q_learning_type='SMDP', title_font=22, ylabel_font=20):\n",
        "    idx = np.arange(20)\n",
        "    id = idx[pass_loc * 4:pass_loc * 4 + 4]\n",
        "    id_in_taxi = idx[16:20]\n",
        "\n",
        "    fig, axs = plt.subplots(nrows=4, ncols=4, figsize=(45, 40))\n",
        "    plt.suptitle(f'{q_learning_type} Q Learning with the provided options', fontsize=title_font)\n",
        "\n",
        "    for n, i in enumerate(id):\n",
        "        _, _, passenger_loc, destination = env.decode(i)\n",
        "\n",
        "        # Plot Q values for state\n",
        "        axs[n][0].set_title(f'Passenger location: {pass_map[passenger_loc]}\\nDestination: {pass_map[destination]}\\nQ values for state', fontsize=title_font)\n",
        "        sns.heatmap(max_Q_matrix[i::20].reshape(5, 5), annot=True, ax=axs[n][0])\n",
        "        axs[n][0].set_ylabel(f'Episode with initial\\npassenger location: {pass_map[passenger_loc]}\\ndestination:{pass_map[destination]}', fontsize=ylabel_font)\n",
        "\n",
        "        # Plot learned policy\n",
        "        t = labeled_argmax_Q_matrix[i::20].reshape(5, 5)\n",
        "        sns.heatmap(argmax_Q_matrix[i::20].reshape(5, 5), annot=t, fmt='', ax=axs[n][1], cbar=False)\n",
        "        axs[n][1].set_title(f'Passenger location: {pass_map[passenger_loc]}\\nDestination: {pass_map[destination]}\\nLearned policy', fontsize=title_font)\n",
        "\n",
        "        # Plot Q values for state (in taxi)\n",
        "        axs[n][2].set_title(f'Passenger location: In Taxi\\nDestination: {pass_map[destination]}\\nQ values for state', fontsize=title_font)\n",
        "        sns.heatmap(max_Q_matrix[id_in_taxi[n]::20].reshape(5, 5), annot=True, ax=axs[n][2])\n",
        "        t = labeled_argmax_Q_matrix[id_in_taxi[n]::20].reshape(5, 5)\n",
        "        sns.heatmap(argmax_Q_matrix[id_in_taxi[n]::20].reshape(5, 5), annot=t, fmt='', ax=axs[n][3], cbar=False)\n",
        "        axs[n][3].set_title(f'Passenger location: In Taxi\\nDestination: {pass_map[destination]}\\nLearned policy', fontsize=title_font)\n",
        "\n",
        "        # Adjust font size of annotations for larger arrows\n",
        "        for ax in axs[n]:\n",
        "            for annotation in ax.texts:\n",
        "                annotation.set_fontsize(26)\n",
        "\n",
        "    plt.show()\n",
        "\n",
        "# Example usage:\n",
        "# visualize_passenger_location(pass_loc, max_Q_matrix, argmax_Q_matrix, labeled_argmax_Q_matrix, q_learning_type='SMDP', title_font=22, ylabel_font=20)\n"
      ],
      "metadata": {
        "id": "hVqX2mCDf8Y6"
      },
      "execution_count": null,
      "outputs": []
    },
    {
      "cell_type": "code",
      "source": [
        "# Call the function with the desired passenger location\n",
        "visualize_passenger_location(0, max_Q_matrix, argmax_Q_matrix, labeled_argmax_Q_matrix, q_learning_type='SMDP', title_font=22, ylabel_font=20)"
      ],
      "metadata": {
        "id": "LrdhF0zsEbXD"
      },
      "execution_count": null,
      "outputs": []
    },
    {
      "cell_type": "code",
      "source": [
        "visualize_passenger_location(1, max_Q_matrix, argmax_Q_matrix, labeled_argmax_Q_matrix, q_learning_type='SMDP', title_font=22, ylabel_font=20)\n"
      ],
      "metadata": {
        "id": "9mrbGaE9RK-D"
      },
      "execution_count": null,
      "outputs": []
    },
    {
      "cell_type": "code",
      "source": [
        "visualize_passenger_location(2, max_Q_matrix, argmax_Q_matrix, labeled_argmax_Q_matrix, q_learning_type='SMDP', title_font=22, ylabel_font=20)\n"
      ],
      "metadata": {
        "id": "NaUsabTPRMLG"
      },
      "execution_count": null,
      "outputs": []
    },
    {
      "cell_type": "code",
      "source": [
        "visualize_passenger_location(3, max_Q_matrix, argmax_Q_matrix, labeled_argmax_Q_matrix, q_learning_type='SMDP', title_font=22, ylabel_font=20)"
      ],
      "metadata": {
        "id": "IoWG8iz3RNag"
      },
      "execution_count": null,
      "outputs": []
    },
    {
      "cell_type": "code",
      "source": [
        "# def visualize_all_passenger_locations():\n",
        "#     for pass_loc in range(4):\n",
        "#         visualize_passenger_location(pass_loc)\n",
        "\n",
        "# Call the function to visualize all possible passenger locations\n",
        "# visualize_all_passenger_locations()\n"
      ],
      "metadata": {
        "id": "Brf9TOnRFCFs"
      },
      "execution_count": null,
      "outputs": []
    },
    {
      "cell_type": "markdown",
      "source": [
        " **Intra-Option Q-Learning**"
      ],
      "metadata": {
        "id": "d1xm4-dlOlLZ"
      }
    },
    {
      "cell_type": "code",
      "source": [
        "update_option = lambda nxt_stt, optdone, act: ((optdone) * np.max(IOQL_QV[nxt_stt]) + (1 - optdone) * (IOQL_QV[nxt_stt][act]))\n"
      ],
      "metadata": {
        "id": "8pKKgYmh-lIE"
      },
      "execution_count": null,
      "outputs": []
    },
    {
      "cell_type": "code",
      "source": [
        "gamma = 0.9\n",
        "alpha = 0.1\n",
        "n_eps = 50000\n",
        "exp = 1\n",
        "steps = []\n",
        "IOQL_rewards = np.zeros((exp, n_eps))\n",
        "max_eps = 0.1\n",
        "eps_decay=1\n",
        "eps_min=0.01\n",
        "eps_ = max_eps\n",
        "no_act = 10\n",
        "IOQL_QV = np.zeros((500, no_act))"
      ],
      "metadata": {
        "id": "Vy4DYozc-56Q"
      },
      "execution_count": null,
      "outputs": []
    },
    {
      "cell_type": "code",
      "source": [
        "from tqdm import tqdm\n",
        "\n",
        "def run_IOQL(env, IOQL_QV, action_funcs, eps_min, eps_, eps_decay, alpha, gamma, exp, n_eps, no_act):\n",
        "    for i in range(exp):\n",
        "        for episode in tqdm(range(n_eps)):\n",
        "            step = 0\n",
        "            stt = env.reset()[0]\n",
        "            done = False\n",
        "            total_rewards = 0\n",
        "            # eps = eps_\n",
        "\n",
        "            while not done:\n",
        "                step += 1\n",
        "                eps = min(eps_min, eps_)\n",
        "                act = epsilon_greedy(IOQL_QV, stt, eps, no_act)\n",
        "                eps_ *= eps_decay\n",
        "\n",
        "                if act < 6:\n",
        "                    nxt_stt, reward, done, _, _ = env.step(act)\n",
        "                    total_rewards += reward\n",
        "                    IOQL_QV[stt][act] += alpha * (reward + gamma * np.max(IOQL_QV[nxt_stt]) - IOQL_QV[stt][act])\n",
        "                    stt = nxt_stt\n",
        "                else:\n",
        "                    act_func = action_funcs[act - 6]\n",
        "                    optdone = False\n",
        "                    int_stt = stt\n",
        "                    tau = 0\n",
        "                    reward_bar = 0\n",
        "\n",
        "                    while not (optdone or done):\n",
        "                        optact, optdone = act_func(env, stt)\n",
        "                        next_stt, reward, done, _, _ = env.step(optact)\n",
        "\n",
        "                        IOQL_QV[stt][optact] += alpha * (reward + gamma * np.max(IOQL_QV[next_stt]) - IOQL_QV[stt][optact])\n",
        "                        IOQL_QV[stt][act] += alpha * (reward + gamma * update_option(next_stt, optdone, act) - IOQL_QV[stt][act])\n",
        "                        taxi_row, taxi_col, passenger_index, destination_index = env.decode(stt)\n",
        "                        sim_opt = act + 1 if (act % 2) == 0 else act - 1\n",
        "\n",
        "                        if taxi_col > 0 and (act==6 or act==7):\n",
        "                            IOQL_QV[stt][sim_opt] += alpha * (reward + gamma * np.max(IOQL_QV[next_stt]) - IOQL_QV[stt][sim_opt])\n",
        "                        elif taxi_col < 3 and (act==8 or act==9):\n",
        "                            IOQL_QV[stt][sim_opt] += alpha * (reward + gamma * np.max(IOQL_QV[next_stt]) - IOQL_QV[stt][sim_opt])\n",
        "                        reward_bar = gamma * reward_bar + reward\n",
        "                        stt = next_stt\n",
        "\n",
        "                    total_rewards += reward_bar\n",
        "\n",
        "            IOQL_rewards[i][episode] = total_rewards\n",
        "            steps.append(step)\n",
        "\n",
        "\n"
      ],
      "metadata": {
        "id": "GCUFK_acPBDA"
      },
      "execution_count": null,
      "outputs": []
    },
    {
      "cell_type": "code",
      "source": [
        "\n",
        "\n",
        "action_funcs = [move_to_R, move_to_G, move_to_Y, move_to_B]\n",
        "run_IOQL(env, IOQL_QV, action_funcs, eps_min, eps_, eps_decay, alpha, gamma, exp, n_eps, no_act)\n",
        "r = np.sum(IOQL_rewards, 0)"
      ],
      "metadata": {
        "id": "eNf5vgoD-o__"
      },
      "execution_count": null,
      "outputs": []
    },
    {
      "cell_type": "code",
      "source": [
        "# Calculate mean and standard deviation\n",
        "mean_reward = np.mean(r)\n",
        "std_reward = np.std(r)"
      ],
      "metadata": {
        "id": "Vexl9LSAW60n"
      },
      "execution_count": null,
      "outputs": []
    },
    {
      "cell_type": "code",
      "source": [
        "q_learning_type = 'Intra Option'"
      ],
      "metadata": {
        "id": "G8QMuqNRbvEj"
      },
      "execution_count": null,
      "outputs": []
    },
    {
      "cell_type": "code",
      "source": [
        "plot_reward_vs_episodes(n_eps, r, q_learning_type)"
      ],
      "metadata": {
        "id": "UY5LpibFYJMQ"
      },
      "execution_count": null,
      "outputs": []
    },
    {
      "cell_type": "code",
      "source": [
        "plot_cumulative_reward(n_eps, r, 100, q_learning_type)"
      ],
      "metadata": {
        "id": "I_raPLAbYLTb"
      },
      "execution_count": null,
      "outputs": []
    },
    {
      "cell_type": "code",
      "source": [
        "plot_cumulative_steps(n_eps, steps, q_learning_type)"
      ],
      "metadata": {
        "id": "nJcIdFnsYfrl"
      },
      "execution_count": null,
      "outputs": []
    },
    {
      "cell_type": "code",
      "source": [
        "plot_cumulative_steps_with_rolling_mean(n_eps, steps, 100, q_learning_type)"
      ],
      "metadata": {
        "id": "AYYYbWoyaj_p"
      },
      "execution_count": null,
      "outputs": []
    },
    {
      "cell_type": "markdown",
      "source": [
        "Reshape Q Matrix to show all scenarios for Intra Option Q Learning\n"
      ],
      "metadata": {
        "id": "4bG1k_L0egZA"
      }
    },
    {
      "cell_type": "code",
      "source": [
        "reshaped_IOQL_matrix = IOQL_QV.reshape(500, no_act)\n",
        "argmax_IOQL_matrix = np.argmax(reshaped_IOQL_matrix, axis=-1)\n",
        "max_IOQL_matrix = np.max(reshaped_IOQL_matrix, axis=-1)\n",
        "labeled_argmax_IOQL_matrix = np.vectorize(opt_map.get)(argmax_IOQL_matrix)"
      ],
      "metadata": {
        "id": "5YXlEB-Ee3Iq"
      },
      "execution_count": null,
      "outputs": []
    },
    {
      "cell_type": "markdown",
      "source": [
        "Plot heatmaps for IOQL\n"
      ],
      "metadata": {
        "id": "AI8ncje2gEdg"
      }
    },
    {
      "cell_type": "code",
      "source": [
        "visualize_passenger_location(0, max_IOQL_matrix, argmax_IOQL_matrix, labeled_argmax_IOQL_matrix, q_learning_type='Intra Option', title_font=22, ylabel_font=20)"
      ],
      "metadata": {
        "id": "7mMloDDXgHDS"
      },
      "execution_count": null,
      "outputs": []
    },
    {
      "cell_type": "code",
      "source": [
        "visualize_passenger_location(1, max_IOQL_matrix, argmax_IOQL_matrix, labeled_argmax_IOQL_matrix, q_learning_type='Intra Option', title_font=22, ylabel_font=20)"
      ],
      "metadata": {
        "id": "fHeM5XKwgx6J"
      },
      "execution_count": null,
      "outputs": []
    },
    {
      "cell_type": "code",
      "source": [
        "visualize_passenger_location(2, max_IOQL_matrix, argmax_IOQL_matrix, labeled_argmax_IOQL_matrix, q_learning_type='Intra Option', title_font=22, ylabel_font=20)"
      ],
      "metadata": {
        "id": "XdCFeIZTgzk8"
      },
      "execution_count": null,
      "outputs": []
    },
    {
      "cell_type": "code",
      "source": [
        "visualize_passenger_location(3, max_IOQL_matrix, argmax_IOQL_matrix, labeled_argmax_IOQL_matrix, q_learning_type='Intra Option', title_font=22, ylabel_font=20)"
      ],
      "metadata": {
        "id": "VeWiSemdg1cw"
      },
      "execution_count": null,
      "outputs": []
    },
    {
      "cell_type": "markdown",
      "source": [
        "Task 3: Alternate Options\n",
        "\n",
        "Go to Mid point of Left Wall ie M\n",
        "\n",
        "```\n",
        "    +---------+\n",
        "    |R: | : :G|\n",
        "    | : | : : |\n",
        "    |M: : : : |\n",
        "    | | : | : |\n",
        "    |Y| : |B: |\n",
        "    +---------+\n",
        "\n",
        "\n",
        "```\n",
        "\n",
        "\n",
        "Go to Mid point of Right Wall ie N\n",
        "\n",
        "```\n",
        "    +---------+\n",
        "    |R: | : :G|\n",
        "    | : | : : |\n",
        "    | : : : :N|\n",
        "    | | : | : |\n",
        "    |Y| : |B: |\n",
        "    +---------+\n",
        "\n",
        "```\n",
        "\n",
        "\n"
      ],
      "metadata": {
        "id": "A0hhOpCjj_pC"
      }
    },
    {
      "cell_type": "code",
      "source": [
        "M_Loc = [2,0]\n",
        "N_Loc = [2,4]"
      ],
      "metadata": {
        "id": "KJc5mCrVkj3X"
      },
      "execution_count": null,
      "outputs": []
    },
    {
      "cell_type": "code",
      "source": [
        "M_Opt_Pol = np.array([[D, D, D, D, D],\n",
        "                 [D, D, D, D, D],\n",
        "                 [L, L, L, L, L],\n",
        "                 [U, U, U, U, U],\n",
        "                 [U, U, U, U, U]])\n",
        "\n",
        "N_Opt_Pol = np.array([[D, D, D, D, D],\n",
        "                  [D, D, D, D, D],\n",
        "                  [R, R, R, R, R],\n",
        "                  [U, U, U, U, U],\n",
        "                  [U, U, U, U, U]])\n"
      ],
      "metadata": {
        "id": "4f4zlMXNnwim"
      },
      "execution_count": null,
      "outputs": []
    },
    {
      "cell_type": "code",
      "source": [
        "def move_to_M(env, state):\n",
        "    T_r, T_c, P_i, D_i = env.decode(state)\n",
        "    Opt_Done = True if ([T_r, T_c] == M_Loc) else False\n",
        "    Opt_Act = M_Opt_Pol[T_r][T_c]\n",
        "    return [Opt_Act, Opt_Done]"
      ],
      "metadata": {
        "id": "7qqy6HJ8lYKK"
      },
      "execution_count": null,
      "outputs": []
    },
    {
      "cell_type": "code",
      "source": [
        "def move_to_N(env, state):\n",
        "    T_r, T_c, P_i, D_i = env.decode(state)\n",
        "    Opt_Done = True if ([T_r, T_c] == N_Loc) else False\n",
        "    Opt_Act = N_Opt_Pol[T_r][T_c]\n",
        "    return [Opt_Act, Opt_Done]"
      ],
      "metadata": {
        "id": "txtH8EQ3lrcX"
      },
      "execution_count": null,
      "outputs": []
    },
    {
      "cell_type": "code",
      "source": [
        "\n",
        "options = [M_Opt_Pol, N_Opt_Pol]\n",
        "optName = ['left_wall_center','right_wall_center']\n",
        "\n",
        "figure, axis = plt.subplots(1,2,figsize=(15,10))\n",
        "\n",
        "i=0\n",
        "labels = {0: '↓', 1: 'ꜛ', 2: '→', 3: '←'}\n",
        "for j in range(2):\n",
        "    # labels = {0:'south',1:'north', 2:'east', 3:'west'}\n",
        "    l = np.vectorize(labels.get)((options[2*i+j]))\n",
        "    sns.heatmap((options[2*i+j]),ax=axis[j],annot = l,fmt='', cbar=False, annot_kws={\"size\": 18})\n",
        "    axis[j].set_title(\"Policy for option go_to_{}\".format(optName[i*2+j]))\n",
        "plt.suptitle(f'Policy for the new options')\n",
        "\n"
      ],
      "metadata": {
        "id": "1BZ2DesxlXA1"
      },
      "execution_count": null,
      "outputs": []
    },
    {
      "cell_type": "code",
      "source": [
        "gamma = 0.9\n",
        "alpha = 0.1\n",
        "n_eps = 30000\n",
        "exp = 1\n",
        "steps = []\n",
        "eps = 0.1\n",
        "no_act = 8\n",
        "SMDP_QV = np.zeros((500, no_act))\n",
        "rewards = np.zeros((exp, n_eps))"
      ],
      "metadata": {
        "id": "EpUrnY39qjNe"
      },
      "execution_count": null,
      "outputs": []
    },
    {
      "cell_type": "code",
      "source": [
        "# Define a function to update Q-values for primitive actions\n",
        "update_q_primitive = lambda stt, act, nxt_stt, reward: \\\n",
        "    SMDP_QV[stt][act] + alpha * (reward + gamma * np.max(SMDP_QV[nxt_stt]) - SMDP_QV[stt][act])\n",
        "\n",
        "update_q_option = lambda int_stt, act, tau, nxt_stt, reward_bar: \\\n",
        "    SMDP_QV[int_stt][act] + alpha * \\\n",
        "    (reward_bar + (gamma ** tau) * np.max(SMDP_QV[nxt_stt]) - SMDP_QV[int_stt][act])\n"
      ],
      "metadata": {
        "id": "9GvqtUBkNHn6"
      },
      "execution_count": null,
      "outputs": []
    },
    {
      "cell_type": "code",
      "source": [
        "\n",
        "# Define a function to perform SMDP Q-Learning for options\n",
        "def smdp_q_learning_option_MN(act_func, stt, done):\n",
        "    optdone = False\n",
        "    int_stt = stt\n",
        "    tau = 0\n",
        "    reward_bar = 0\n",
        "    while (optdone == False and not done):\n",
        "        optact, optdone = act_func(env, stt)\n",
        "        # print(optact)\n",
        "        nxt_stt, reward, done, _, _ = env.step(optact)\n",
        "        reward_bar = gamma * reward_bar + reward\n",
        "        tau += 1\n",
        "        stt = nxt_stt\n",
        "    return int_stt, tau, reward_bar, nxt_stt\n",
        "\n"
      ],
      "metadata": {
        "id": "MvRU6uqL9do2"
      },
      "execution_count": null,
      "outputs": []
    },
    {
      "cell_type": "code",
      "source": [
        "\n",
        "def run_smdp_q_learning_MN(actions_funcs, no_act, eps, exp, n_eps):\n",
        "\n",
        "    for i in range(exp):\n",
        "        for episode in tqdm(range(n_eps)):\n",
        "            step = 0\n",
        "            stt = env.reset()[0]\n",
        "            done = False\n",
        "            total_rewards = 0\n",
        "\n",
        "            while not done:\n",
        "                step += 1\n",
        "                act = epsilon_greedy(SMDP_QV, stt, eps, no_act)\n",
        "\n",
        "                if act < 6:\n",
        "                    nxt_stt, reward, done, _ , _ = env.step(act)\n",
        "                    total_rewards += reward\n",
        "                    SMDP_QV[stt][act] = update_q_primitive(stt, act, nxt_stt, reward)\n",
        "                    stt = nxt_stt\n",
        "\n",
        "                else:\n",
        "                    # print(act)\n",
        "                    act_func = actions_funcs[act - 6]\n",
        "                    int_stt, tau, reward_bar, nxt_stt = smdp_q_learning_option_MN(act_func, stt, done)\n",
        "                    SMDP_QV[int_stt][act] = update_q_option(int_stt, act, tau, nxt_stt, reward_bar)\n",
        "                    total_rewards += reward_bar\n",
        "\n",
        "            rewards[i][episode] = total_rewards\n",
        "            steps.append(step)\n"
      ],
      "metadata": {
        "id": "7W7OT4F29FzL"
      },
      "execution_count": null,
      "outputs": []
    },
    {
      "cell_type": "code",
      "source": [
        "# actions_fun = [move_to_R, move_to_G, move_to_Y, move_to_B, move_to_M, move_to_N]\n",
        "actions_fun = [move_to_M, move_to_N]\n",
        "run_smdp_q_learning_MN(actions_fun, no_act, eps, exp, n_eps)\n",
        "r = np.sum(rewards, 0)"
      ],
      "metadata": {
        "id": "80Igyt9gqx6P"
      },
      "execution_count": null,
      "outputs": []
    },
    {
      "cell_type": "code",
      "source": [
        "# Calculate mean and standard deviation\n",
        "mean_reward = np.mean(r)\n",
        "std_reward = np.std(r)"
      ],
      "metadata": {
        "id": "Jza3TowWrAtN"
      },
      "execution_count": null,
      "outputs": []
    },
    {
      "cell_type": "markdown",
      "source": [
        "Plot Reward and Step Graphs for SMDP\n"
      ],
      "metadata": {
        "id": "FrIaKfGcrO6T"
      }
    },
    {
      "cell_type": "code",
      "source": [
        "q_learning_type = 'SMDP'"
      ],
      "metadata": {
        "id": "4Olv9oEhrO6U"
      },
      "execution_count": null,
      "outputs": []
    },
    {
      "cell_type": "code",
      "source": [
        "plot_reward_vs_episodes(n_eps, r, q_learning_type)"
      ],
      "metadata": {
        "id": "2UTW036vrO6W"
      },
      "execution_count": null,
      "outputs": []
    },
    {
      "cell_type": "code",
      "source": [
        "plot_cumulative_reward(n_eps, r, 100, q_learning_type)"
      ],
      "metadata": {
        "id": "tyaN5sRnrO6Y"
      },
      "execution_count": null,
      "outputs": []
    },
    {
      "cell_type": "code",
      "source": [
        "plot_cumulative_steps(n_eps, steps, q_learning_type)"
      ],
      "metadata": {
        "id": "img5xQMPrO6Z"
      },
      "execution_count": null,
      "outputs": []
    },
    {
      "cell_type": "code",
      "source": [
        "plot_cumulative_steps_with_rolling_mean(n_eps, steps, 100, q_learning_type)"
      ],
      "metadata": {
        "id": "dSW1n50yrO6Z"
      },
      "execution_count": null,
      "outputs": []
    },
    {
      "cell_type": "code",
      "source": [
        "import matplotlib.pyplot as plt\n",
        "\n",
        "# Define passenger locations\n",
        "passenger_locations = [0, 1, 2, 3, 4]\n",
        "# Define option map and passenger map\n",
        "opt_map = {0: '↓', 1: 'ꜛ', 2: '→', 3: '←', 4: 'Pick\\nUp', 5: 'Drop\\noff', 6: 'Go to\\nM', 7: 'Go to\\nN'}\n",
        "pass_map = {0: 'R', 1:'G', 2: 'Y', 3:'B'}\n",
        "\n"
      ],
      "metadata": {
        "id": "nJra0OucrO6Z"
      },
      "execution_count": null,
      "outputs": []
    },
    {
      "cell_type": "markdown",
      "source": [
        "Reshape Q Matrix to show all scenarios for SMDP"
      ],
      "metadata": {
        "id": "d7YF_PysrO6a"
      }
    },
    {
      "cell_type": "code",
      "source": [
        "# Reshape Q-values matrix\n",
        "reshaped_Q_matrix = SMDP_QV.reshape(500, no_act)\n",
        "max_Q_matrix = np.max(reshaped_Q_matrix, axis=-1)\n",
        "argmax_Q_matrix = np.argmax(reshaped_Q_matrix, axis=-1)\n",
        "labeled_argmax_Q_matrix = np.vectorize(opt_map.get)(argmax_Q_matrix)"
      ],
      "metadata": {
        "id": "cwAjIre0rO6c"
      },
      "execution_count": null,
      "outputs": []
    },
    {
      "cell_type": "code",
      "source": [
        "visualize_passenger_location(0, max_Q_matrix, argmax_Q_matrix, labeled_argmax_Q_matrix, q_learning_type='SMDP', title_font=22, ylabel_font=20)"
      ],
      "metadata": {
        "id": "lmNF3YM4rh2H"
      },
      "execution_count": null,
      "outputs": []
    },
    {
      "cell_type": "code",
      "source": [
        "visualize_passenger_location(1, max_Q_matrix, argmax_Q_matrix, labeled_argmax_Q_matrix, q_learning_type='SMDP', title_font=22, ylabel_font=20)"
      ],
      "metadata": {
        "id": "L5qLxQt0rh2I"
      },
      "execution_count": null,
      "outputs": []
    },
    {
      "cell_type": "code",
      "source": [
        "visualize_passenger_location(2, max_Q_matrix, argmax_Q_matrix, labeled_argmax_Q_matrix, q_learning_type='SMDP', title_font=22, ylabel_font=20)"
      ],
      "metadata": {
        "id": "fkBTzvrqrh2I"
      },
      "execution_count": null,
      "outputs": []
    },
    {
      "cell_type": "code",
      "source": [
        "visualize_passenger_location(3, max_Q_matrix, argmax_Q_matrix, labeled_argmax_Q_matrix, q_learning_type='SMDP', title_font=22, ylabel_font=20)"
      ],
      "metadata": {
        "id": "vTn3MKbPrh2J"
      },
      "execution_count": null,
      "outputs": []
    },
    {
      "cell_type": "markdown",
      "source": [
        "Intra Option Q Learning for Mid Left and Mid Right Options"
      ],
      "metadata": {
        "id": "3u6bA2Gf-Ubo"
      }
    },
    {
      "cell_type": "code",
      "source": [
        "update_option = lambda nxt_stt, optdone, act: ((optdone) * np.max(IOQL_QV[nxt_stt]) + (1 - optdone) * (IOQL_QV[nxt_stt][act]))\n"
      ],
      "metadata": {
        "id": "iZUCfu0-B7UY"
      },
      "execution_count": null,
      "outputs": []
    },
    {
      "cell_type": "code",
      "source": [
        "from tqdm import tqdm\n",
        "\n",
        "def run_IOQL_MN(env, IOQL_QV, action_funcs, eps_min, eps_, eps_decay, alpha, gamma, exp, n_eps, no_act):\n",
        "    for i in range(exp):\n",
        "        for episode in tqdm(range(n_eps)):\n",
        "            step = 0\n",
        "            stt = env.reset()[0]\n",
        "            done = False\n",
        "            total_rewards = 0\n",
        "            # eps = eps_\n",
        "\n",
        "            while not done:\n",
        "                step += 1\n",
        "                eps = min(eps_min, eps_)\n",
        "                act = epsilon_greedy(IOQL_QV, stt, eps, no_act)\n",
        "                eps_ *= eps_decay\n",
        "\n",
        "                if act < 6:\n",
        "                    nxt_stt, reward, done, _, _ = env.step(act)\n",
        "                    total_rewards += reward\n",
        "                    IOQL_QV[stt][act] += alpha * (reward + gamma * np.max(IOQL_QV[nxt_stt]) - IOQL_QV[stt][act])\n",
        "                    stt = nxt_stt\n",
        "                else:\n",
        "                    act_func = action_funcs[act - 6]\n",
        "                    optdone = False\n",
        "                    int_stt = stt\n",
        "                    tau = 0\n",
        "                    reward_bar = 0\n",
        "\n",
        "                    while not (optdone or done):\n",
        "                        optact, optdone = act_func(env, stt)\n",
        "                        next_stt, reward, done, _, _ = env.step(optact)\n",
        "\n",
        "                        IOQL_QV[stt][optact] += alpha * (reward + gamma * np.max(IOQL_QV[next_stt]) - IOQL_QV[stt][optact])\n",
        "                        IOQL_QV[stt][act] += alpha * (reward + gamma * update_option(next_stt, optdone, act) - IOQL_QV[stt][act])\n",
        "                        taxi_row, taxi_col, passenger_index, destination_index = env.decode(stt)\n",
        "\n",
        "                        sim_opt = act + 1 if (act % 2) == 0 else act - 1\n",
        "\n",
        "                        # if (taxi_row < 2) or (taxi_row > 2) and (act==6):\n",
        "                        #     IOQL_QV[stt][sim_opt] += alpha * (reward + gamma * np.max(IOQL_QV[next_stt]) - IOQL_QV[stt][sim_opt])\n",
        "                        # elif (taxi_row < 2) or (taxi_row > 2) and (act==7):\n",
        "                        #     IOQL_QV[stt][sim_opt] += alpha * (reward + gamma * np.max(IOQL_QV[next_stt]) - IOQL_QV[stt][sim_opt])\n",
        "                        reward_bar = gamma * reward_bar + reward\n",
        "                        stt = next_stt\n",
        "\n",
        "                    total_rewards += reward_bar\n",
        "\n",
        "            IOQL_rewards[i][episode] = total_rewards\n",
        "            steps.append(step)\n",
        "\n",
        "\n"
      ],
      "metadata": {
        "id": "lghArbiIBpDT"
      },
      "execution_count": null,
      "outputs": []
    },
    {
      "cell_type": "code",
      "source": [
        "gamma = 0.9\n",
        "alpha = 0.1\n",
        "n_eps = 50000\n",
        "exp = 1\n",
        "steps = []\n",
        "IOQL_rewards = np.zeros((exp, n_eps))\n",
        "max_eps = 0.1\n",
        "eps_decay=1\n",
        "eps_min=0.01\n",
        "eps_ = max_eps\n",
        "no_act = 8\n",
        "IOQL_QV = np.zeros((500, no_act))"
      ],
      "metadata": {
        "id": "0ARNiW51B7Ue"
      },
      "execution_count": null,
      "outputs": []
    },
    {
      "cell_type": "code",
      "source": [
        "\n",
        "\n",
        "action_funcs = [move_to_R, move_to_G, move_to_Y, move_to_B]\n",
        "run_IOQL_MN(env, IOQL_QV, action_funcs, eps_min, eps_, eps_decay, alpha, gamma, exp, n_eps, no_act)\n",
        "r = np.sum(IOQL_rewards, 0)"
      ],
      "metadata": {
        "id": "hovNs6PSB7Ug"
      },
      "execution_count": null,
      "outputs": []
    },
    {
      "cell_type": "code",
      "source": [
        "# Calculate mean and standard deviation\n",
        "mean_reward = np.mean(r)\n",
        "std_reward = np.std(r)"
      ],
      "metadata": {
        "id": "CeU2QxV2B7Ui"
      },
      "execution_count": null,
      "outputs": []
    },
    {
      "cell_type": "code",
      "source": [
        "q_learning_type = 'Intra Option'"
      ],
      "metadata": {
        "id": "ZdylNtJuB7Uj"
      },
      "execution_count": null,
      "outputs": []
    },
    {
      "cell_type": "code",
      "source": [
        "plot_reward_vs_episodes(n_eps, r, q_learning_type)"
      ],
      "metadata": {
        "id": "1x-6nXmrB7Uk"
      },
      "execution_count": null,
      "outputs": []
    },
    {
      "cell_type": "code",
      "source": [
        "plot_cumulative_reward(n_eps, r, 100, q_learning_type)"
      ],
      "metadata": {
        "id": "3B8L4qXBB7Ul"
      },
      "execution_count": null,
      "outputs": []
    },
    {
      "cell_type": "code",
      "source": [
        "plot_cumulative_steps(n_eps, steps, q_learning_type)"
      ],
      "metadata": {
        "id": "VidaoyHjB7Um"
      },
      "execution_count": null,
      "outputs": []
    },
    {
      "cell_type": "code",
      "source": [
        "plot_cumulative_steps_with_rolling_mean(n_eps, steps, 100, q_learning_type)"
      ],
      "metadata": {
        "id": "V0wparIVB7Un"
      },
      "execution_count": null,
      "outputs": []
    },
    {
      "cell_type": "markdown",
      "source": [
        "Reshape Q Matrix to show all scenarios for Intra Option Q Learning\n"
      ],
      "metadata": {
        "id": "AEFwZQBoB7Un"
      }
    },
    {
      "cell_type": "code",
      "source": [
        "reshaped_IOQL_matrix = IOQL_QV.reshape(500, no_act)\n",
        "argmax_IOQL_matrix = np.argmax(reshaped_IOQL_matrix, axis=-1)\n",
        "max_IOQL_matrix = np.max(reshaped_IOQL_matrix, axis=-1)\n",
        "labeled_argmax_IOQL_matrix = np.vectorize(opt_map.get)(argmax_IOQL_matrix)"
      ],
      "metadata": {
        "id": "HXmMyGH4B7Uo"
      },
      "execution_count": null,
      "outputs": []
    },
    {
      "cell_type": "markdown",
      "source": [
        "Plot heatmaps for IOQL\n"
      ],
      "metadata": {
        "id": "P_2EeQD0B7Up"
      }
    },
    {
      "cell_type": "code",
      "source": [
        "visualize_passenger_location(0, max_IOQL_matrix, argmax_IOQL_matrix, labeled_argmax_IOQL_matrix, q_learning_type='Intra Option', title_font=22, ylabel_font=20)"
      ],
      "metadata": {
        "id": "Cq-f9a9XB7Up"
      },
      "execution_count": null,
      "outputs": []
    },
    {
      "cell_type": "code",
      "source": [
        "visualize_passenger_location(1, max_IOQL_matrix, argmax_IOQL_matrix, labeled_argmax_IOQL_matrix, q_learning_type='Intra Option', title_font=22, ylabel_font=20)"
      ],
      "metadata": {
        "id": "_JLzj-M3B7Uq"
      },
      "execution_count": null,
      "outputs": []
    },
    {
      "cell_type": "code",
      "source": [
        "visualize_passenger_location(2, max_IOQL_matrix, argmax_IOQL_matrix, labeled_argmax_IOQL_matrix, q_learning_type='Intra Option', title_font=22, ylabel_font=20)"
      ],
      "metadata": {
        "id": "eMDK2BZJB7Uq"
      },
      "execution_count": null,
      "outputs": []
    },
    {
      "cell_type": "code",
      "source": [
        "visualize_passenger_location(3, max_IOQL_matrix, argmax_IOQL_matrix, labeled_argmax_IOQL_matrix, q_learning_type='Intra Option', title_font=22, ylabel_font=20)"
      ],
      "metadata": {
        "id": "qdIt5soDB7Ur"
      },
      "execution_count": null,
      "outputs": []
    },
    {
      "cell_type": "markdown",
      "source": [
        "References:\n",
        "\n",
        "[1] : https://gymnasium.farama.org/environments/toy_text/taxi/"
      ],
      "metadata": {
        "id": "1anTII-zD8VH"
      }
    }
  ]
}